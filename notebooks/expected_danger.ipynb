{
 "cells": [
  {
   "cell_type": "code",
   "execution_count": null,
   "id": "1406e86b",
   "metadata": {},
   "outputs": [],
   "source": [
    "from pathlib import Path\n",
    "import os\n",
    "import json\n",
    "\n",
    "import pandas as pd\n",
    "import numpy as np"
   ]
  },
  {
   "cell_type": "markdown",
   "id": "98add225",
   "metadata": {},
   "source": [
    "# Get events data"
   ]
  },
  {
   "cell_type": "code",
   "execution_count": null,
   "id": "73c3b5ba",
   "metadata": {},
   "outputs": [],
   "source": [
    "# Get project root\n",
    "project_root = Path().absolute().parent\n",
    "\n",
    "# Get path to event data\n",
    "event_data_path = os.path.join(project_root, \"data\", \"wyscout_data\", \"events_data\")\n",
    "\n",
    "# Get all JSON files in the directory\n",
    "json_files = [f for f in os.listdir(event_data_path) if f.endswith('.json')]\n",
    "\n",
    "# Add all events to a list (more efficient than concatenating on each iteration)\n",
    "df_list = [\n",
    "    pd.DataFrame(json.load(open(os.path.join(event_data_path, file))))\n",
    "    for file in json_files\n",
    "]\n",
    "\n",
    "# Concatenate all dataframes at once\n",
    "df_events = pd.concat(df_list, ignore_index=True)"
   ]
  }
 ],
 "metadata": {
  "language_info": {
   "name": "python"
  }
 },
 "nbformat": 4,
 "nbformat_minor": 5
}
